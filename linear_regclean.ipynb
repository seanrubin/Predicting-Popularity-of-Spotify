{
 "cells": [
  {
   "cell_type": "code",
   "execution_count": 1,
   "metadata": {
    "colab": {
     "base_uri": "https://localhost:8080/",
     "height": 204
    },
    "id": "8LOf4mvV2nlf",
    "outputId": "d6b51881-042b-4315-ea98-f922d5e01f96"
   },
   "outputs": [
    {
     "name": "stderr",
     "output_type": "stream",
     "text": [
      "2024-07-30 20:33:59.401958: I tensorflow/core/platform/cpu_feature_guard.cc:210] This TensorFlow binary is optimized to use available CPU instructions in performance-critical operations.\n",
      "To enable the following instructions: AVX2 FMA, in other operations, rebuild TensorFlow with the appropriate compiler flags.\n"
     ]
    }
   ],
   "source": [
    "# Import our dependencies\n",
    "from sklearn.model_selection import train_test_split\n",
    "from sklearn.preprocessing import StandardScaler\n",
    "from sklearn.metrics import accuracy_score\n",
    "import pandas as pd\n",
    "import tensorflow as tf\n",
    "from pathlib import Path\n",
    "import numpy as np\n",
    "import matplotlib.pyplot as plt\n",
    "from sklearn.linear_model import LogisticRegression\n",
    "from sklearn.metrics import classification_report\n",
    "import plotly.express as px"
   ]
  },
  {
   "cell_type": "code",
   "execution_count": 6,
   "metadata": {},
   "outputs": [
    {
     "data": {
      "text/html": [
       "<div>\n",
       "<style scoped>\n",
       "    .dataframe tbody tr th:only-of-type {\n",
       "        vertical-align: middle;\n",
       "    }\n",
       "\n",
       "    .dataframe tbody tr th {\n",
       "        vertical-align: top;\n",
       "    }\n",
       "\n",
       "    .dataframe thead th {\n",
       "        text-align: right;\n",
       "    }\n",
       "</style>\n",
       "<table border=\"1\" class=\"dataframe\">\n",
       "  <thead>\n",
       "    <tr style=\"text-align: right;\">\n",
       "      <th></th>\n",
       "      <th>track_id</th>\n",
       "      <th>artists</th>\n",
       "      <th>album_name</th>\n",
       "      <th>track_name</th>\n",
       "      <th>popularity</th>\n",
       "      <th>duration_ms</th>\n",
       "      <th>explicit</th>\n",
       "      <th>danceability</th>\n",
       "      <th>energy</th>\n",
       "      <th>key</th>\n",
       "      <th>loudness</th>\n",
       "      <th>mode</th>\n",
       "      <th>speechiness</th>\n",
       "      <th>acousticness</th>\n",
       "      <th>instrumentalness</th>\n",
       "      <th>liveness</th>\n",
       "      <th>valence</th>\n",
       "      <th>tempo</th>\n",
       "      <th>time_signature</th>\n",
       "      <th>track_genre</th>\n",
       "    </tr>\n",
       "  </thead>\n",
       "  <tbody>\n",
       "    <tr>\n",
       "      <th>0</th>\n",
       "      <td>3nqQXoyQOWXiESFLlDF1hG</td>\n",
       "      <td>Sam Smith;Kim Petras</td>\n",
       "      <td>Unholy (feat. Kim Petras)</td>\n",
       "      <td>Unholy (feat. Kim Petras)</td>\n",
       "      <td>100</td>\n",
       "      <td>156943</td>\n",
       "      <td>False</td>\n",
       "      <td>0.714</td>\n",
       "      <td>0.472</td>\n",
       "      <td>2</td>\n",
       "      <td>-7.375</td>\n",
       "      <td>1</td>\n",
       "      <td>0.0864</td>\n",
       "      <td>0.01300</td>\n",
       "      <td>0.000005</td>\n",
       "      <td>0.2660</td>\n",
       "      <td>0.238</td>\n",
       "      <td>131.121</td>\n",
       "      <td>4</td>\n",
       "      <td>dance</td>\n",
       "    </tr>\n",
       "    <tr>\n",
       "      <th>1</th>\n",
       "      <td>2tTmW7RDtMQtBk7m2rYeSw</td>\n",
       "      <td>Bizarrap;Quevedo</td>\n",
       "      <td>Quevedo: Bzrp Music Sessions, Vol. 52</td>\n",
       "      <td>Quevedo: Bzrp Music Sessions, Vol. 52</td>\n",
       "      <td>99</td>\n",
       "      <td>198937</td>\n",
       "      <td>False</td>\n",
       "      <td>0.621</td>\n",
       "      <td>0.782</td>\n",
       "      <td>2</td>\n",
       "      <td>-5.548</td>\n",
       "      <td>1</td>\n",
       "      <td>0.0440</td>\n",
       "      <td>0.01250</td>\n",
       "      <td>0.033000</td>\n",
       "      <td>0.2300</td>\n",
       "      <td>0.550</td>\n",
       "      <td>128.033</td>\n",
       "      <td>4</td>\n",
       "      <td>hip-hop</td>\n",
       "    </tr>\n",
       "    <tr>\n",
       "      <th>2</th>\n",
       "      <td>4uUG5RXrOk84mYEfFvj3cK</td>\n",
       "      <td>David Guetta;Bebe Rexha</td>\n",
       "      <td>I'm Good (Blue)</td>\n",
       "      <td>I'm Good (Blue)</td>\n",
       "      <td>98</td>\n",
       "      <td>175238</td>\n",
       "      <td>True</td>\n",
       "      <td>0.561</td>\n",
       "      <td>0.965</td>\n",
       "      <td>7</td>\n",
       "      <td>-3.673</td>\n",
       "      <td>0</td>\n",
       "      <td>0.0343</td>\n",
       "      <td>0.00383</td>\n",
       "      <td>0.000007</td>\n",
       "      <td>0.3710</td>\n",
       "      <td>0.304</td>\n",
       "      <td>128.040</td>\n",
       "      <td>4</td>\n",
       "      <td>dance</td>\n",
       "    </tr>\n",
       "    <tr>\n",
       "      <th>3</th>\n",
       "      <td>5ww2BF9slyYgNOk37BlC4u</td>\n",
       "      <td>Manuel Turizo</td>\n",
       "      <td>La Bachata</td>\n",
       "      <td>La Bachata</td>\n",
       "      <td>98</td>\n",
       "      <td>162637</td>\n",
       "      <td>False</td>\n",
       "      <td>0.835</td>\n",
       "      <td>0.679</td>\n",
       "      <td>7</td>\n",
       "      <td>-5.329</td>\n",
       "      <td>0</td>\n",
       "      <td>0.0364</td>\n",
       "      <td>0.58300</td>\n",
       "      <td>0.000002</td>\n",
       "      <td>0.2180</td>\n",
       "      <td>0.850</td>\n",
       "      <td>124.980</td>\n",
       "      <td>4</td>\n",
       "      <td>latin</td>\n",
       "    </tr>\n",
       "    <tr>\n",
       "      <th>4</th>\n",
       "      <td>6Sq7ltF9Qa7SNFBsV5Cogx</td>\n",
       "      <td>Bad Bunny;Chencho Corleone</td>\n",
       "      <td>Un Verano Sin Ti</td>\n",
       "      <td>Me Porto Bonito</td>\n",
       "      <td>97</td>\n",
       "      <td>178567</td>\n",
       "      <td>True</td>\n",
       "      <td>0.911</td>\n",
       "      <td>0.712</td>\n",
       "      <td>1</td>\n",
       "      <td>-5.105</td>\n",
       "      <td>0</td>\n",
       "      <td>0.0817</td>\n",
       "      <td>0.09010</td>\n",
       "      <td>0.000027</td>\n",
       "      <td>0.0933</td>\n",
       "      <td>0.425</td>\n",
       "      <td>92.005</td>\n",
       "      <td>4</td>\n",
       "      <td>latin</td>\n",
       "    </tr>\n",
       "  </tbody>\n",
       "</table>\n",
       "</div>"
      ],
      "text/plain": [
       "                 track_id                     artists  \\\n",
       "0  3nqQXoyQOWXiESFLlDF1hG        Sam Smith;Kim Petras   \n",
       "1  2tTmW7RDtMQtBk7m2rYeSw            Bizarrap;Quevedo   \n",
       "2  4uUG5RXrOk84mYEfFvj3cK     David Guetta;Bebe Rexha   \n",
       "3  5ww2BF9slyYgNOk37BlC4u               Manuel Turizo   \n",
       "4  6Sq7ltF9Qa7SNFBsV5Cogx  Bad Bunny;Chencho Corleone   \n",
       "\n",
       "                              album_name  \\\n",
       "0              Unholy (feat. Kim Petras)   \n",
       "1  Quevedo: Bzrp Music Sessions, Vol. 52   \n",
       "2                        I'm Good (Blue)   \n",
       "3                             La Bachata   \n",
       "4                       Un Verano Sin Ti   \n",
       "\n",
       "                              track_name  popularity  duration_ms  explicit  \\\n",
       "0              Unholy (feat. Kim Petras)         100       156943     False   \n",
       "1  Quevedo: Bzrp Music Sessions, Vol. 52          99       198937     False   \n",
       "2                        I'm Good (Blue)          98       175238      True   \n",
       "3                             La Bachata          98       162637     False   \n",
       "4                        Me Porto Bonito          97       178567      True   \n",
       "\n",
       "   danceability  energy  key  loudness  mode  speechiness  acousticness  \\\n",
       "0         0.714   0.472    2    -7.375     1       0.0864       0.01300   \n",
       "1         0.621   0.782    2    -5.548     1       0.0440       0.01250   \n",
       "2         0.561   0.965    7    -3.673     0       0.0343       0.00383   \n",
       "3         0.835   0.679    7    -5.329     0       0.0364       0.58300   \n",
       "4         0.911   0.712    1    -5.105     0       0.0817       0.09010   \n",
       "\n",
       "   instrumentalness  liveness  valence    tempo  time_signature track_genre  \n",
       "0          0.000005    0.2660    0.238  131.121               4       dance  \n",
       "1          0.033000    0.2300    0.550  128.033               4     hip-hop  \n",
       "2          0.000007    0.3710    0.304  128.040               4       dance  \n",
       "3          0.000002    0.2180    0.850  124.980               4       latin  \n",
       "4          0.000027    0.0933    0.425   92.005               4       latin  "
      ]
     },
     "execution_count": 6,
     "metadata": {},
     "output_type": "execute_result"
    }
   ],
   "source": [
    "# Import our input dataset\n",
    "Spotify =  Path('Resources/spotify_data_trimmed2.csv')\n",
    "Spotify_df = pd.read_csv(Spotify)\n",
    "Spotify_df.head()"
   ]
  },
  {
   "cell_type": "code",
   "execution_count": 7,
   "metadata": {},
   "outputs": [],
   "source": [
    "final=Spotify_df.select_dtypes(include='number')"
   ]
  },
  {
   "cell_type": "code",
   "execution_count": 8,
   "metadata": {},
   "outputs": [
    {
     "data": {
      "text/html": [
       "<div>\n",
       "<style scoped>\n",
       "    .dataframe tbody tr th:only-of-type {\n",
       "        vertical-align: middle;\n",
       "    }\n",
       "\n",
       "    .dataframe tbody tr th {\n",
       "        vertical-align: top;\n",
       "    }\n",
       "\n",
       "    .dataframe thead th {\n",
       "        text-align: right;\n",
       "    }\n",
       "</style>\n",
       "<table border=\"1\" class=\"dataframe\">\n",
       "  <thead>\n",
       "    <tr style=\"text-align: right;\">\n",
       "      <th></th>\n",
       "      <th>artists</th>\n",
       "      <th>popularity</th>\n",
       "      <th>duration_ms</th>\n",
       "      <th>danceability</th>\n",
       "      <th>energy</th>\n",
       "      <th>track_genre</th>\n",
       "    </tr>\n",
       "  </thead>\n",
       "  <tbody>\n",
       "    <tr>\n",
       "      <th>0</th>\n",
       "      <td>Sam Smith;Kim Petras</td>\n",
       "      <td>100</td>\n",
       "      <td>156943</td>\n",
       "      <td>0.714</td>\n",
       "      <td>0.472</td>\n",
       "      <td>dance</td>\n",
       "    </tr>\n",
       "    <tr>\n",
       "      <th>1</th>\n",
       "      <td>Bizarrap;Quevedo</td>\n",
       "      <td>99</td>\n",
       "      <td>198937</td>\n",
       "      <td>0.621</td>\n",
       "      <td>0.782</td>\n",
       "      <td>hip-hop</td>\n",
       "    </tr>\n",
       "    <tr>\n",
       "      <th>2</th>\n",
       "      <td>David Guetta;Bebe Rexha</td>\n",
       "      <td>98</td>\n",
       "      <td>175238</td>\n",
       "      <td>0.561</td>\n",
       "      <td>0.965</td>\n",
       "      <td>dance</td>\n",
       "    </tr>\n",
       "    <tr>\n",
       "      <th>3</th>\n",
       "      <td>Manuel Turizo</td>\n",
       "      <td>98</td>\n",
       "      <td>162637</td>\n",
       "      <td>0.835</td>\n",
       "      <td>0.679</td>\n",
       "      <td>latin</td>\n",
       "    </tr>\n",
       "    <tr>\n",
       "      <th>4</th>\n",
       "      <td>Bad Bunny;Chencho Corleone</td>\n",
       "      <td>97</td>\n",
       "      <td>178567</td>\n",
       "      <td>0.911</td>\n",
       "      <td>0.712</td>\n",
       "      <td>latin</td>\n",
       "    </tr>\n",
       "    <tr>\n",
       "      <th>...</th>\n",
       "      <td>...</td>\n",
       "      <td>...</td>\n",
       "      <td>...</td>\n",
       "      <td>...</td>\n",
       "      <td>...</td>\n",
       "      <td>...</td>\n",
       "    </tr>\n",
       "    <tr>\n",
       "      <th>9995</th>\n",
       "      <td>Oliver Koletzki;Jimmy Sax</td>\n",
       "      <td>59</td>\n",
       "      <td>419500</td>\n",
       "      <td>0.776</td>\n",
       "      <td>0.601</td>\n",
       "      <td>electronic</td>\n",
       "    </tr>\n",
       "    <tr>\n",
       "      <th>9996</th>\n",
       "      <td>Joe Hisaishi</td>\n",
       "      <td>59</td>\n",
       "      <td>180333</td>\n",
       "      <td>0.524</td>\n",
       "      <td>0.345</td>\n",
       "      <td>anime</td>\n",
       "    </tr>\n",
       "    <tr>\n",
       "      <th>9997</th>\n",
       "      <td>Wang Chung</td>\n",
       "      <td>59</td>\n",
       "      <td>287360</td>\n",
       "      <td>0.728</td>\n",
       "      <td>0.619</td>\n",
       "      <td>synth-pop</td>\n",
       "    </tr>\n",
       "    <tr>\n",
       "      <th>9998</th>\n",
       "      <td>Arijit Singh</td>\n",
       "      <td>59</td>\n",
       "      <td>387169</td>\n",
       "      <td>0.512</td>\n",
       "      <td>0.670</td>\n",
       "      <td>pop-film</td>\n",
       "    </tr>\n",
       "    <tr>\n",
       "      <th>9999</th>\n",
       "      <td>Hillsong Worship;Reuben Morgan</td>\n",
       "      <td>59</td>\n",
       "      <td>320986</td>\n",
       "      <td>0.366</td>\n",
       "      <td>0.812</td>\n",
       "      <td>world-music</td>\n",
       "    </tr>\n",
       "  </tbody>\n",
       "</table>\n",
       "<p>10000 rows × 6 columns</p>\n",
       "</div>"
      ],
      "text/plain": [
       "                             artists  popularity  duration_ms  danceability  \\\n",
       "0               Sam Smith;Kim Petras         100       156943         0.714   \n",
       "1                   Bizarrap;Quevedo          99       198937         0.621   \n",
       "2            David Guetta;Bebe Rexha          98       175238         0.561   \n",
       "3                      Manuel Turizo          98       162637         0.835   \n",
       "4         Bad Bunny;Chencho Corleone          97       178567         0.911   \n",
       "...                              ...         ...          ...           ...   \n",
       "9995       Oliver Koletzki;Jimmy Sax          59       419500         0.776   \n",
       "9996                    Joe Hisaishi          59       180333         0.524   \n",
       "9997                      Wang Chung          59       287360         0.728   \n",
       "9998                    Arijit Singh          59       387169         0.512   \n",
       "9999  Hillsong Worship;Reuben Morgan          59       320986         0.366   \n",
       "\n",
       "      energy  track_genre  \n",
       "0      0.472        dance  \n",
       "1      0.782      hip-hop  \n",
       "2      0.965        dance  \n",
       "3      0.679        latin  \n",
       "4      0.712        latin  \n",
       "...      ...          ...  \n",
       "9995   0.601   electronic  \n",
       "9996   0.345        anime  \n",
       "9997   0.619    synth-pop  \n",
       "9998   0.670     pop-film  \n",
       "9999   0.812  world-music  \n",
       "\n",
       "[10000 rows x 6 columns]"
      ]
     },
     "execution_count": 8,
     "metadata": {},
     "output_type": "execute_result"
    }
   ],
   "source": [
    "clean_df=Spotify_df.loc[:,['artists','popularity','duration_ms','danceability','energy','track_genre']]\n",
    "clean_df"
   ]
  },
  {
   "cell_type": "code",
   "execution_count": 9,
   "metadata": {},
   "outputs": [
    {
     "name": "stdout",
     "output_type": "stream",
     "text": [
      "71.0\n"
     ]
    }
   ],
   "source": [
    "test = final['popularity'].quantile(0.75)\n",
    "print(test)"
   ]
  },
  {
   "cell_type": "code",
   "execution_count": 11,
   "metadata": {
    "id": "6mnUA9Jz2nlp"
   },
   "outputs": [],
   "source": [
    "X = final[[\"duration_ms\", \"danceability\", \"energy\",\"key\",\"valence\",\"instrumentalness\",\"speechiness\"  ]] # error was from here\n",
    "y = (final['popularity'] > final['popularity'].quantile(0.75)).astype(int)\n",
    "\n",
    "\n",
    "\n",
    "\n",
    "\n",
    "X_train, X_test, y_train, y_test = train_test_split(X, y, test_size=0.2, random_state=42)"
   ]
  },
  {
   "cell_type": "code",
   "execution_count": null,
   "metadata": {},
   "outputs": [],
   "source": []
  },
  {
   "cell_type": "code",
   "execution_count": 12,
   "metadata": {
    "id": "reOMnWTW2nlq"
   },
   "outputs": [],
   "source": [
    "# Preprocess numerical data for neural network\n",
    "\n",
    "# Create and fit the StandardScaler\n",
    "scaler = StandardScaler()\n",
    "X_train_scaled = scaler.fit_transform(X_train)\n",
    "X_test_scaled = scaler.transform(X_test)"
   ]
  },
  {
   "cell_type": "code",
   "execution_count": 13,
   "metadata": {
    "colab": {
     "base_uri": "https://localhost:8080/"
    },
    "id": "gJP8qIlU2nlq",
    "outputId": "96c0759d-3ac4-4cb1-c3b2-bd2f50ac50f0"
   },
   "outputs": [
    {
     "name": "stdout",
     "output_type": "stream",
     "text": [
      "Epoch 1/3\n"
     ]
    },
    {
     "name": "stderr",
     "output_type": "stream",
     "text": [
      "/opt/anaconda3/lib/python3.11/site-packages/keras/src/layers/core/dense.py:87: UserWarning: Do not pass an `input_shape`/`input_dim` argument to a layer. When using Sequential models, prefer using an `Input(shape)` object as the first layer in the model instead.\n",
      "  super().__init__(activity_regularizer=activity_regularizer, **kwargs)\n"
     ]
    },
    {
     "name": "stdout",
     "output_type": "stream",
     "text": [
      "\u001b[1m200/200\u001b[0m \u001b[32m━━━━━━━━━━━━━━━━━━━━\u001b[0m\u001b[37m\u001b[0m \u001b[1m2s\u001b[0m 3ms/step - accuracy: 0.7344 - loss: 0.5808 - val_accuracy: 0.7644 - val_loss: 0.5304\n",
      "Epoch 2/3\n",
      "\u001b[1m200/200\u001b[0m \u001b[32m━━━━━━━━━━━━━━━━━━━━\u001b[0m\u001b[37m\u001b[0m \u001b[1m0s\u001b[0m 2ms/step - accuracy: 0.7603 - loss: 0.5364 - val_accuracy: 0.7644 - val_loss: 0.5304\n",
      "Epoch 3/3\n",
      "\u001b[1m200/200\u001b[0m \u001b[32m━━━━━━━━━━━━━━━━━━━━\u001b[0m\u001b[37m\u001b[0m \u001b[1m1s\u001b[0m 3ms/step - accuracy: 0.7646 - loss: 0.5287 - val_accuracy: 0.7644 - val_loss: 0.5295\n",
      "63/63 - 0s - 3ms/step - accuracy: 0.7560 - loss: 0.5435\n",
      "Loss: 0.5435, Accuracy: 75.60%\n"
     ]
    }
   ],
   "source": [
    "\n",
    "\n",
    "# Define the deep learning model \n",
    "nn_model = tf.keras.models.Sequential([\n",
    "    tf.keras.layers.Dense(units=80, activation=\"relu\", input_shape=(X_train_scaled.shape[1],)),\n",
    "    tf.keras.layers.Dense(units=30, activation=\"relu\"),\n",
    "    tf.keras.layers.Dense(units=1, activation=\"sigmoid\")\n",
    "])\n",
    "\n",
    "# Compile the Sequential model together and customize metrics\n",
    "nn_model.compile(loss=\"binary_crossentropy\", optimizer=\"adam\", metrics=[\"accuracy\"])\n",
    "\n",
    "\n",
    "# Train the model\n",
    "history = nn_model.fit(X_train_scaled, y_train, epochs=3, validation_split=0.2, verbose=1)\n",
    "\n",
    "\n",
    "#\n",
    "model_loss, model_accuracy = nn_model.evaluate(X_test_scaled, y_test, verbose=2)\n",
    "print(f\"Loss: {model_loss:.4f}, Accuracy: {model_accuracy*100:.2f}%\")\n",
    "\n",
    "\n"
   ]
  },
  {
   "cell_type": "code",
   "execution_count": 15,
   "metadata": {},
   "outputs": [],
   "source": [
    "my_song = pd.DataFrame({\n",
    "    \"duration_ms\": [198937],\n",
    "    \"danceability\": [0.935],\n",
    "    \"energy\": [0.712],\n",
    "    \"key\": [2],\n",
    "    \"valence\":[0.238],\n",
    "    \"instrumentalness\":[0.000005],\n",
    "    \"speechiness\" : [0.0864] \n",
    "    \n",
    "})"
   ]
  },
  {
   "cell_type": "code",
   "execution_count": 16,
   "metadata": {},
   "outputs": [],
   "source": [
    "# Apply the same scaling used during training\n",
    "my_song_scaled = scaler.transform(my_song)"
   ]
  },
  {
   "cell_type": "code",
   "execution_count": 17,
   "metadata": {},
   "outputs": [
    {
     "name": "stdout",
     "output_type": "stream",
     "text": [
      "\u001b[1m1/1\u001b[0m \u001b[32m━━━━━━━━━━━━━━━━━━━━\u001b[0m\u001b[37m\u001b[0m \u001b[1m0s\u001b[0m 53ms/step\n",
      "Predicted popularity: 37.9%\n"
     ]
    }
   ],
   "source": [
    "# Make predictions\n",
    "predicted_popularity = nn_model.predict(my_song_scaled)\n",
    "\n",
    "# Print the predicted popularity\n",
    "print(f\"Predicted popularity: {predicted_popularity.item()*100:.1f}%\")\n"
   ]
  },
  {
   "cell_type": "code",
   "execution_count": 85,
   "metadata": {},
   "outputs": [
    {
     "name": "stdout",
     "output_type": "stream",
     "text": [
      "\u001b[1m63/63\u001b[0m \u001b[32m━━━━━━━━━━━━━━━━━━━━\u001b[0m\u001b[37m\u001b[0m \u001b[1m0s\u001b[0m 1ms/step\n",
      "\n",
      "Classification Report:\n",
      "              precision    recall  f1-score   support\n",
      "\n",
      "           0       0.76      1.00      0.86      1512\n",
      "           1       0.00      0.00      0.00       488\n",
      "\n",
      "    accuracy                           0.76      2000\n",
      "   macro avg       0.38      0.50      0.43      2000\n",
      "weighted avg       0.57      0.76      0.65      2000\n",
      "\n"
     ]
    },
    {
     "name": "stderr",
     "output_type": "stream",
     "text": [
      "/opt/anaconda3/lib/python3.11/site-packages/sklearn/metrics/_classification.py:1344: UndefinedMetricWarning: Precision and F-score are ill-defined and being set to 0.0 in labels with no predicted samples. Use `zero_division` parameter to control this behavior.\n",
      "  _warn_prf(average, modifier, msg_start, len(result))\n",
      "/opt/anaconda3/lib/python3.11/site-packages/sklearn/metrics/_classification.py:1344: UndefinedMetricWarning: Precision and F-score are ill-defined and being set to 0.0 in labels with no predicted samples. Use `zero_division` parameter to control this behavior.\n",
      "  _warn_prf(average, modifier, msg_start, len(result))\n",
      "/opt/anaconda3/lib/python3.11/site-packages/sklearn/metrics/_classification.py:1344: UndefinedMetricWarning: Precision and F-score are ill-defined and being set to 0.0 in labels with no predicted samples. Use `zero_division` parameter to control this behavior.\n",
      "  _warn_prf(average, modifier, msg_start, len(result))\n"
     ]
    }
   ],
   "source": [
    "\n",
    "# Make y_pred\n",
    "y_pred = (nn_model.predict(X_test) > 0.5).astype(int).flatten()\n",
    "\n",
    "# Print classification report\n",
    "print(\"\\nClassification Report:\")\n",
    "print(classification_report(y_test, y_pred))"
   ]
  },
  {
   "cell_type": "code",
   "execution_count": null,
   "metadata": {},
   "outputs": [],
   "source": []
  }
 ],
 "metadata": {
  "colab": {
   "name": "DetectingDiabetes.ipynb",
   "provenance": []
  },
  "kernelspec": {
   "display_name": "Python 3 (ipykernel)",
   "language": "python",
   "name": "python3"
  },
  "language_info": {
   "codemirror_mode": {
    "name": "ipython",
    "version": 3
   },
   "file_extension": ".py",
   "mimetype": "text/x-python",
   "name": "python",
   "nbconvert_exporter": "python",
   "pygments_lexer": "ipython3",
   "version": "3.11.7"
  },
  "vscode": {
   "interpreter": {
    "hash": "31f2aee4e71d21fbe5cf8b01ff0e069b9275f58929596ceb00d14d90e3e16cd6"
   }
  }
 },
 "nbformat": 4,
 "nbformat_minor": 4
}
