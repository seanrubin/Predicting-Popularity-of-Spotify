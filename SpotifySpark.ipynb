{
  "nbformat": 4,
  "nbformat_minor": 0,
  "metadata": {
    "colab": {
      "provenance": [],
      "authorship_tag": "ABX9TyO+1FKdMcZyaLfaKLikWZQl",
      "include_colab_link": true
    },
    "kernelspec": {
      "name": "python3",
      "display_name": "Python 3"
    },
    "language_info": {
      "name": "python"
    }
  },
  "cells": [
    {
      "cell_type": "markdown",
      "metadata": {
        "id": "view-in-github",
        "colab_type": "text"
      },
      "source": [
        "<a href=\"https://colab.research.google.com/github/seanrubin/Predicting-Popularity-of-Spotify/blob/main/SpotifySpark.ipynb\" target=\"_parent\"><img src=\"https://colab.research.google.com/assets/colab-badge.svg\" alt=\"Open In Colab\"/></a>"
      ]
    },
    {
      "cell_type": "code",
      "execution_count": null,
      "metadata": {
        "colab": {
          "base_uri": "https://localhost:8080/"
        },
        "id": "52v5dR1g2lI1",
        "outputId": "66163170-61a9-4c62-cddc-c2c299302104"
      },
      "outputs": [
        {
          "output_type": "stream",
          "name": "stdout",
          "text": [
            "Collecting pyspark\n",
            "  Downloading pyspark-3.5.1.tar.gz (317.0 MB)\n",
            "\u001b[2K     \u001b[90m━━━━━━━━━━━━━━━━━━━━━━━━━━━━━━━━━━━━━━━━\u001b[0m \u001b[32m317.0/317.0 MB\u001b[0m \u001b[31m3.5 MB/s\u001b[0m eta \u001b[36m0:00:00\u001b[0m\n",
            "\u001b[?25h  Preparing metadata (setup.py) ... \u001b[?25l\u001b[?25hdone\n",
            "Requirement already satisfied: py4j in /usr/local/lib/python3.10/dist-packages (0.10.9.7)\n",
            "Building wheels for collected packages: pyspark\n",
            "  Building wheel for pyspark (setup.py) ... \u001b[?25l\u001b[?25hdone\n",
            "  Created wheel for pyspark: filename=pyspark-3.5.1-py2.py3-none-any.whl size=317488490 sha256=b9a524b111184cfec9dc4a0022fbb631eb34aa4f8b3265ae39184649f3afc538\n",
            "  Stored in directory: /root/.cache/pip/wheels/80/1d/60/2c256ed38dddce2fdd93be545214a63e02fbd8d74fb0b7f3a6\n",
            "Successfully built pyspark\n",
            "Installing collected packages: pyspark\n",
            "Successfully installed pyspark-3.5.1\n",
            "Get:1 https://developer.download.nvidia.com/compute/cuda/repos/ubuntu2204/x86_64  InRelease [1,581 B]\n",
            "Get:2 https://cloud.r-project.org/bin/linux/ubuntu jammy-cran40/ InRelease [3,626 B]\n",
            "Get:3 http://security.ubuntu.com/ubuntu jammy-security InRelease [129 kB]\n",
            "Get:4 https://developer.download.nvidia.com/compute/cuda/repos/ubuntu2204/x86_64  Packages [861 kB]\n",
            "Ign:5 https://r2u.stat.illinois.edu/ubuntu jammy InRelease\n",
            "Hit:6 http://archive.ubuntu.com/ubuntu jammy InRelease\n",
            "Get:7 https://r2u.stat.illinois.edu/ubuntu jammy Release [5,713 B]\n",
            "Get:8 https://r2u.stat.illinois.edu/ubuntu jammy Release.gpg [793 B]\n",
            "Get:9 http://archive.ubuntu.com/ubuntu jammy-updates InRelease [128 kB]\n",
            "Hit:10 https://ppa.launchpadcontent.net/deadsnakes/ppa/ubuntu jammy InRelease\n",
            "Get:11 https://ppa.launchpadcontent.net/graphics-drivers/ppa/ubuntu jammy InRelease [24.3 kB]\n",
            "Hit:12 https://ppa.launchpadcontent.net/ubuntugis/ppa/ubuntu jammy InRelease\n",
            "Get:13 https://r2u.stat.illinois.edu/ubuntu jammy/main all Packages [8,219 kB]\n",
            "Hit:14 http://archive.ubuntu.com/ubuntu jammy-backports InRelease\n",
            "Get:15 http://security.ubuntu.com/ubuntu jammy-security/restricted amd64 Packages [2,780 kB]\n",
            "Get:16 http://security.ubuntu.com/ubuntu jammy-security/universe amd64 Packages [1,130 kB]\n",
            "Get:17 http://security.ubuntu.com/ubuntu jammy-security/main amd64 Packages [2,112 kB]\n",
            "Get:18 https://ppa.launchpadcontent.net/graphics-drivers/ppa/ubuntu jammy/main amd64 Packages [49.2 kB]\n",
            "Get:19 https://r2u.stat.illinois.edu/ubuntu jammy/main amd64 Packages [2,553 kB]\n",
            "Get:20 http://archive.ubuntu.com/ubuntu jammy-updates/restricted amd64 Packages [2,882 kB]\n",
            "Get:21 http://archive.ubuntu.com/ubuntu jammy-updates/main amd64 Packages [2,393 kB]\n",
            "Get:22 http://archive.ubuntu.com/ubuntu jammy-updates/universe amd64 Packages [1,421 kB]\n",
            "Fetched 24.7 MB in 3s (7,063 kB/s)\n",
            "Reading package lists... Done\n",
            "W: Skipping acquire of configured file 'main/source/Sources' as repository 'https://r2u.stat.illinois.edu/ubuntu jammy InRelease' does not seem to provide it (sources.list entry misspelt?)\n"
          ]
        }
      ],
      "source": [
        "!pip install pyspark py4j\n",
        "import os\n",
        "# Find the latest version of spark 3.x  from https://downloads.apache.org/spark/ and enter as the spark version\n",
        "# For example:\n",
        "# spark_version = 'spark-3.5.1'\n",
        "spark_version = 'spark-3.5.1'\n",
        "os.environ['SPARK_VERSION']=spark_version\n",
        "\n",
        "# Install Spark and Java\n",
        "!apt-get update\n",
        "!apt-get install openjdk-11-jdk-headless -qq > /dev/null\n",
        "!wget -q https://downloads.apache.org/spark/$SPARK_VERSION/$SPARK_VERSION-bin-hadoop3.tgz\n",
        "!tar xf $SPARK_VERSION-bin-hadoop3.tgz\n",
        "!pip install -q findspark\n",
        "\n",
        "# Set Environment Variables\n",
        "os.environ[\"JAVA_HOME\"] = \"/usr/lib/jvm/java-11-openjdk-amd64\"\n",
        "os.environ[\"SPARK_HOME\"] = f\"/content/{spark_version}-bin-hadoop3\"\n",
        "\n",
        "# Start a SparkSession\n",
        "import findspark\n",
        "findspark.init()"
      ]
    },
    {
      "cell_type": "code",
      "source": [
        "# Import packages\n",
        "from pyspark.sql import SparkSession\n",
        "import time\n",
        "\n",
        "# Create a SparkSession\n",
        "spark = SparkSession.builder.appName(\"SparkSQL\").getOrCreate()"
      ],
      "metadata": {
        "id": "60sBC4Xm20jI"
      },
      "execution_count": null,
      "outputs": []
    },
    {
      "cell_type": "code",
      "source": [
        "#Spotify_df = spark.read.format(\"csv\").option(\"header\", \"true\").load(\"sample_data/spotify_data_trimmed2.csv\")\n",
        "#Spotify_df.show(5)\n",
        "# Import packages\n",
        "from pyspark.sql import SparkSession\n",
        "import time\n",
        "\n",
        "# Create a SparkSession\n",
        "spark = SparkSession.builder.appName(\"SparkSQL\").getOrCreate()\n",
        "\n",
        "# Verify the file path\n",
        "file_path = \"spotify_data_trimmed2.csv\"  # Adjust if necessary\n",
        "if not os.path.exists(file_path):\n",
        "    print(f\"Error: File not found at {file_path}\")\n",
        "else:\n",
        "    Spotify_df = spark.read.format(\"csv\").option(\"header\", \"true\").load(file_path)\n",
        "    Spotify_df.show(5)"
      ],
      "metadata": {
        "colab": {
          "base_uri": "https://localhost:8080/"
        },
        "id": "1jGEUlFz2_oe",
        "outputId": "dc926953-31b7-48d3-f456-944a5fb7f099"
      },
      "execution_count": null,
      "outputs": [
        {
          "output_type": "stream",
          "name": "stdout",
          "text": [
            "+--------------------+--------------------+--------------------+--------------------+----------+-----------+--------+------------+------+---+--------+----+-----------+------------+----------------+--------+-------+-------+--------------+-----------+\n",
            "|            track_id|             artists|          album_name|          track_name|popularity|duration_ms|explicit|danceability|energy|key|loudness|mode|speechiness|acousticness|instrumentalness|liveness|valence|  tempo|time_signature|track_genre|\n",
            "+--------------------+--------------------+--------------------+--------------------+----------+-----------+--------+------------+------+---+--------+----+-----------+------------+----------------+--------+-------+-------+--------------+-----------+\n",
            "|3nqQXoyQOWXiESFLl...|Sam Smith;Kim Petras|Unholy (feat. Kim...|Unholy (feat. Kim...|       100|     156943|   False|       0.714| 0.472|  2|  -7.375|   1|     0.0864|       0.013|        4.51e-06|   0.266|  0.238|131.121|             4|      dance|\n",
            "|2tTmW7RDtMQtBk7m2...|    Bizarrap;Quevedo|Quevedo: Bzrp Mus...|Quevedo: Bzrp Mus...|        99|     198937|   False|       0.621| 0.782|  2|  -5.548|   1|      0.044|      0.0125|           0.033|    0.23|   0.55|128.033|             4|    hip-hop|\n",
            "|4uUG5RXrOk84mYEfF...|David Guetta;Bebe...|     I'm Good (Blue)|     I'm Good (Blue)|        98|     175238|    True|       0.561| 0.965|  7|  -3.673|   0|     0.0343|     0.00383|        7.07e-06|   0.371|  0.304| 128.04|             4|      dance|\n",
            "|5ww2BF9slyYgNOk37...|       Manuel Turizo|          La Bachata|          La Bachata|        98|     162637|   False|       0.835| 0.679|  7|  -5.329|   0|     0.0364|       0.583|        1.98e-06|   0.218|   0.85| 124.98|             4|      latin|\n",
            "|6Sq7ltF9Qa7SNFBsV...|Bad Bunny;Chencho...|    Un Verano Sin Ti|     Me Porto Bonito|        97|     178567|    True|       0.911| 0.712|  1|  -5.105|   0|     0.0817|      0.0901|        2.68e-05|  0.0933|  0.425| 92.005|             4|      latin|\n",
            "+--------------------+--------------------+--------------------+--------------------+----------+-----------+--------+------------+------+---+--------+----+-----------+------------+----------------+--------+-------+-------+--------------+-----------+\n",
            "only showing top 5 rows\n",
            "\n"
          ]
        }
      ]
    },
    {
      "cell_type": "code",
      "source": [
        "Spotify_df.createOrReplaceTempView('Spotify')\n",
        "Spotify_df.show()"
      ],
      "metadata": {
        "colab": {
          "base_uri": "https://localhost:8080/"
        },
        "id": "OR35VmJa8Xva",
        "outputId": "0fea7c07-76f6-4da5-845c-089910a29afa"
      },
      "execution_count": null,
      "outputs": [
        {
          "output_type": "stream",
          "name": "stdout",
          "text": [
            "+--------------------+--------------------+--------------------+--------------------+----------+-----------+--------+------------+------+---+--------+----+-----------+------------+----------------+--------+-------+-------+--------------+-----------+\n",
            "|            track_id|             artists|          album_name|          track_name|popularity|duration_ms|explicit|danceability|energy|key|loudness|mode|speechiness|acousticness|instrumentalness|liveness|valence|  tempo|time_signature|track_genre|\n",
            "+--------------------+--------------------+--------------------+--------------------+----------+-----------+--------+------------+------+---+--------+----+-----------+------------+----------------+--------+-------+-------+--------------+-----------+\n",
            "|3nqQXoyQOWXiESFLl...|Sam Smith;Kim Petras|Unholy (feat. Kim...|Unholy (feat. Kim...|       100|     156943|   False|       0.714| 0.472|  2|  -7.375|   1|     0.0864|       0.013|        4.51e-06|   0.266|  0.238|131.121|             4|      dance|\n",
            "|2tTmW7RDtMQtBk7m2...|    Bizarrap;Quevedo|Quevedo: Bzrp Mus...|Quevedo: Bzrp Mus...|        99|     198937|   False|       0.621| 0.782|  2|  -5.548|   1|      0.044|      0.0125|           0.033|    0.23|   0.55|128.033|             4|    hip-hop|\n",
            "|4uUG5RXrOk84mYEfF...|David Guetta;Bebe...|     I'm Good (Blue)|     I'm Good (Blue)|        98|     175238|    True|       0.561| 0.965|  7|  -3.673|   0|     0.0343|     0.00383|        7.07e-06|   0.371|  0.304| 128.04|             4|      dance|\n",
            "|5ww2BF9slyYgNOk37...|       Manuel Turizo|          La Bachata|          La Bachata|        98|     162637|   False|       0.835| 0.679|  7|  -5.329|   0|     0.0364|       0.583|        1.98e-06|   0.218|   0.85| 124.98|             4|      latin|\n",
            "|6Sq7ltF9Qa7SNFBsV...|Bad Bunny;Chencho...|    Un Verano Sin Ti|     Me Porto Bonito|        97|     178567|    True|       0.911| 0.712|  1|  -5.105|   0|     0.0817|      0.0901|        2.68e-05|  0.0933|  0.425| 92.005|             4|      latin|\n",
            "|1IHWl5LamUGEuP4oz...|           Bad Bunny|    Un Verano Sin Ti|    Tití Me Preguntó|        97|     243716|   False|        0.65| 0.715|  5|  -5.198|   0|      0.253|      0.0993|        0.000291|   0.126|  0.187|106.672|             4|      latin|\n",
            "|5Eax0qFko2dh7Rl2l...|           Bad Bunny|    Un Verano Sin Ti|              Efecto|        96|     213061|   False|       0.801| 0.475|  7|  -8.797|   0|     0.0516|       0.141|        1.73e-05|  0.0639|  0.234| 98.047|             4|      latin|\n",
            "|5IgjP7X4th6nMNDh4...|         Chris Brown|   Indigo (Extended)| Under The Influence|        96|     184613|    True|       0.733|  0.69|  9|  -5.529|   0|     0.0427|      0.0635|        1.18e-06|   0.105|   0.31|116.992|             4|      dance|\n",
            "|4h9wh7iOZ0GGn8QVp...|         OneRepublic|\"I Ain’t Worried ...|     I Ain't Worried|        96|     148485|   False|       0.704| 0.797|  0|  -5.927|   1|     0.0475|      0.0826|        0.000745|  0.0546|  0.825|139.994|             4|      piano|\n",
            "|4LRPiXqCikLlN15c3...|        Harry Styles|           As It Was|           As It Was|        95|     167303|   False|        0.52| 0.731|  6|  -5.338|   0|     0.0557|       0.342|         0.00101|   0.311|  0.662| 173.93|             4|        pop|\n",
            "|3k3NWokhRRkEPhCzP...|Bad Bunny;Bomba E...|    Un Verano Sin Ti|       Ojitos Lindos|        95|     258298|   False|       0.647| 0.686|  3|  -5.745|   0|     0.0413|        0.08|        1.34e-06|   0.528|  0.268| 79.928|             4|      latin|\n",
            "|6Xom58OOXk2SoU711...|           Bad Bunny|    Un Verano Sin Ti|         Moscow Mule|        94|     245939|    True|       0.804| 0.674|  5|  -5.453|   0|     0.0333|       0.294|        1.18e-06|   0.115|  0.292| 99.968|             4|      latin|\n",
            "|6xGruZOHLs39ZbVcc...|                Joji|       Glimpse of Us|       Glimpse of Us|        94|     233456|   False|        0.44| 0.317|  8|  -9.258|   1|     0.0531|       0.891|        4.78e-06|   0.141|  0.268|169.914|             3|        pop|\n",
            "|1xzi1Jcr7mEi9K2Rf...|             Beyoncé|         RENAISSANCE|             CUFF IT|        93|     225388|    True|        0.78| 0.689|  7|  -5.668|   1|      0.141|      0.0368|        9.69e-06|  0.0698|  0.642|115.042|             4|      dance|\n",
            "|2QjOHCTQ1Jl3zawyY...|   The Neighbourhood|         I Love You.|     Sweater Weather|        93|     240400|   False|       0.612| 0.807| 10|   -2.81|   1|     0.0336|      0.0495|          0.0177|   0.101|  0.398|124.053|             4|   alt-rock|\n",
            "|3JvKfv6T31zO0ini8...|           Tom Odell|Long Way Down (De...|        Another Love|        93|     244360|    True|       0.445| 0.537|  4|  -8.532|   0|       0.04|       0.695|        1.65e-05|  0.0944|  0.131|122.769|             4|      chill|\n",
            "|31i56LZnwE6uSu3ex...|           Bad Bunny|    Un Verano Sin Ti|            Neverita|        93|     173119|   False|       0.876| 0.498| 10|  -7.511|   1|     0.0478|      0.0706|             0.0|   0.143|  0.428|122.016|             4|      latin|\n",
            "|7dSZ6zGTQx66c2GF9...|             KAROL G|            PROVENZA|            PROVENZA|        93|     210200|   False|        0.87| 0.516|  1|  -8.006|   1|     0.0541|       0.656|         0.00823|    0.11|   0.53|111.005|             4|     reggae|\n",
            "|4Dvkj6JhhA12EX05f...|        Harry Styles|       Harry's House|           As It Was|        92|     167303|   False|        0.52| 0.731|  6|  -5.338|   0|     0.0557|       0.342|         0.00101|   0.311|  0.662| 173.93|             4|        pop|\n",
            "|0mBP9X2gPCuapvpZ7...|Charlie Puth;Jung...|Left and Right (F...|Left and Right (F...|        92|     154486|   False|       0.881| 0.592|  2|  -4.898|   1|     0.0324|       0.619|        1.32e-05|  0.0901|  0.719|101.058|             4|      dance|\n",
            "+--------------------+--------------------+--------------------+--------------------+----------+-----------+--------+------------+------+---+--------+----+-----------+------------+----------------+--------+-------+-------+--------------+-----------+\n",
            "only showing top 20 rows\n",
            "\n"
          ]
        }
      ]
    },
    {
      "cell_type": "code",
      "source": [
        "a = \"\"\"\n",
        "SELECT\n",
        "  track_name AS Track_Name,\n",
        "  CAST(popularity as INT) AS Popularity\n",
        "FROM Spotify\n",
        "WHERE Popularity >=71\n",
        "ORDER BY Popularity DESC\n",
        "\"\"\"\n",
        "spark.sql(a).show()"
      ],
      "metadata": {
        "colab": {
          "base_uri": "https://localhost:8080/"
        },
        "id": "KyumUDFX3z_T",
        "outputId": "95dfdc4d-0f7a-4373-aa31-636e5ab55829"
      },
      "execution_count": null,
      "outputs": [
        {
          "output_type": "stream",
          "name": "stdout",
          "text": [
            "+--------------------+----------+\n",
            "|          Track_Name|Popularity|\n",
            "+--------------------+----------+\n",
            "|Unholy (feat. Kim...|       100|\n",
            "|Quevedo: Bzrp Mus...|        99|\n",
            "|     I'm Good (Blue)|        98|\n",
            "|          La Bachata|        98|\n",
            "|     Me Porto Bonito|        97|\n",
            "|    Tití Me Preguntó|        97|\n",
            "|              Efecto|        96|\n",
            "| Under The Influence|        96|\n",
            "|     I Ain't Worried|        96|\n",
            "|           As It Was|        95|\n",
            "|       Ojitos Lindos|        95|\n",
            "|         Moscow Mule|        94|\n",
            "|       Glimpse of Us|        94|\n",
            "|             CUFF IT|        93|\n",
            "|     Sweater Weather|        93|\n",
            "|        Another Love|        93|\n",
            "|            Neverita|        93|\n",
            "|            PROVENZA|        93|\n",
            "|           As It Was|        92|\n",
            "|Left and Right (F...|        92|\n",
            "+--------------------+----------+\n",
            "only showing top 20 rows\n",
            "\n"
          ]
        }
      ]
    },
    {
      "cell_type": "code",
      "source": [
        "b = \"\"\"\n",
        "SELECT\n",
        "  track_genre As Genre,\n",
        "  count(track_genre) AS Genre_Count\n",
        "FROM Spotify\n",
        "WHERE CAST(popularity as INT)>=71\n",
        "GROUP BY track_genre\n",
        "ORDER BY Genre_Count DESC\n",
        "\"\"\"\n",
        "spark.sql(b).show()"
      ],
      "metadata": {
        "colab": {
          "base_uri": "https://localhost:8080/"
        },
        "id": "mE3erRNw1_1C",
        "outputId": "749bd340-e593-483c-d70e-bddff1bb4e45"
      },
      "execution_count": null,
      "outputs": [
        {
          "output_type": "stream",
          "name": "stdout",
          "text": [
            "+-----------------+-----------+\n",
            "|            Genre|Genre_Count|\n",
            "+-----------------+-----------+\n",
            "|            dance|        239|\n",
            "|            k-pop|        185|\n",
            "|         alt-rock|        147|\n",
            "|           latino|        131|\n",
            "|          electro|        119|\n",
            "|        indie-pop|        112|\n",
            "|          hip-hop|        109|\n",
            "|              edm|        103|\n",
            "|              pop|         93|\n",
            "|        hard-rock|         92|\n",
            "|          country|         68|\n",
            "|             rock|         68|\n",
            "|              emo|         62|\n",
            "|             folk|         57|\n",
            "|            blues|         56|\n",
            "|          british|         55|\n",
            "|            disco|         51|\n",
            "|      alternative|         50|\n",
            "|singer-songwriter|         48|\n",
            "|            latin|         45|\n",
            "+-----------------+-----------+\n",
            "only showing top 20 rows\n",
            "\n"
          ]
        }
      ]
    },
    {
      "cell_type": "code",
      "source": [
        "d = \"\"\"\n",
        "SELECT\n",
        "  AVG(popularity) AS Avg_Popularity,\n",
        "  track_genre,\n",
        "  artists,\n",
        "  album_name,\n",
        "  duration_ms,\n",
        "  explicit,\n",
        "  danceability,\n",
        "  energy,\n",
        "  key,\n",
        "  loudness,\n",
        "  mode,\n",
        "  speechiness,\n",
        "  acousticness,\n",
        "  instrumentalness,\n",
        "  liveness,\n",
        "  valence,\n",
        "  tempo,\n",
        "  time_signature,\n",
        "  track_genre\n",
        "FROM Spotify\n",
        "WHERE popularity>=71\n",
        "GROUP BY track_genre, artists, album_name, duration_ms, explicit, danceability, energy, key, loudness, mode, speechiness, acousticness, instrumentalness, liveness, valence, tempo, time_signature\n",
        "LIMIT 1\n",
        "\"\"\"\n",
        "spark.sql(d).show()"
      ],
      "metadata": {
        "colab": {
          "base_uri": "https://localhost:8080/"
        },
        "id": "YZ3n6yDn3uTY",
        "outputId": "6b833a30-a758-4591-fcf2-19bf8ac7b03f"
      },
      "execution_count": null,
      "outputs": [
        {
          "output_type": "stream",
          "name": "stdout",
          "text": [
            "+--------------+-----------+------------+----------+-----------+--------+------------+------+---+--------+----+-----------+------------+----------------+--------+-------+------+--------------+-----------+\n",
            "|Avg_Popularity|track_genre|     artists|album_name|duration_ms|explicit|danceability|energy|key|loudness|mode|speechiness|acousticness|instrumentalness|liveness|valence| tempo|time_signature|track_genre|\n",
            "+--------------+-----------+------------+----------+-----------+--------+------------+------+---+--------+----+-----------+------------+----------------+--------+-------+------+--------------+-----------+\n",
            "|          86.0|        pop|Taylor Swift|  folklore|     261922|   False|       0.532| 0.623|  5|  -9.208|   1|     0.0331|       0.538|        7.28e-05|  0.0925|  0.403|89.937|             4|        pop|\n",
            "+--------------+-----------+------------+----------+-----------+--------+------------+------+---+--------+----+-----------+------------+----------------+--------+-------+------+--------------+-----------+\n",
            "\n"
          ]
        }
      ]
    }
  ]
}